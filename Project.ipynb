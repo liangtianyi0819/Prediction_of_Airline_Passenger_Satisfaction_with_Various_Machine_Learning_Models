{
 "cells": [
  {
   "cell_type": "markdown",
   "id": "1316baf9",
   "metadata": {},
   "source": [
    "# Machine Learning Classification: Predicting Airline Passenger Satisfaction\n",
    "\n",
    "## Dataset\n",
    "I am going to use the dataset \"Airline Passenger Satisfaction Score Classification\" from Kaggle in this project, which includes Gender, Customer Type, Age, Purpose of traveling, Class, Flight Distance, Wi-fi Service, Ease of online booking, Gate location, food and Drink, Online Boarding service, Inflight Entertainment, Baggage handling, Check-in service, Cleanliness, Departure Delay in Minutes, Arrival Delay in Minutes, and Satisfaction.\n",
    "\n",
    "- Gender: Gender of the passengers (Female, Male)\n",
    "- Customer Type: The customer type (Loyal customer, disloyal customer)\n",
    "- Age: The actual age of the passengers\n",
    "- Type of Travel: Purpose of the flight of the passengers (Personal Travel, Business Travel)\n",
    "- Class: Travel class in the plane of the passengers (Business, Eco, Eco Plus)\n",
    "- Flight distance: The flight distance of this journey\n",
    "- Inflight wifi service: Satisfaction level of the inflight wifi service (0:Not Applicable;1-5)\n",
    "- Departure/Arrival time convenient: Satisfaction level of Departure/Arrival time convenient\n",
    "- Ease of Online booking: Satisfaction level of online booking\n",
    "- Gate location: Satisfaction level of Gate location\n",
    "- Food and drink: Satisfaction level of Food and drink\n",
    "- Online boarding: Satisfaction level of online boarding\n",
    "- Seat comfort: Satisfaction level of Seat comfort\n",
    "- Inflight entertainment: Satisfaction level of inflight entertainment\n",
    "- On-board service: Satisfaction level of On-board service\n",
    "- Leg room service: Satisfaction level of Leg room service\n",
    "- Baggage handling: Satisfaction level of baggage handling\n",
    "- Check-in service: Satisfaction level of Check-in service\n",
    "- Inflight service: Satisfaction level of inflight service\n",
    "- Cleanliness: Satisfaction level of Cleanliness\n",
    "- Departure Delay in Minutes: Minutes delayed when departure\n",
    "- Arrival Delay in Minutes: Minutes delayed when Arrival\n",
    "- Satisfaction: Airline satisfaction level(Satisfaction, neutral or dissatisfaction)"
   ]
  },
  {
   "cell_type": "markdown",
   "id": "25d8ad02",
   "metadata": {},
   "source": [
    "## Library imports\n",
    "- Pandas for data processing\n",
    "- Sklearn for machine learning model\n",
    "- seaborn and matplotlib for ploting graphs\n",
    "- numpy for basical operations"
   ]
  },
  {
   "cell_type": "code",
   "execution_count": 1,
   "id": "f1186dec",
   "metadata": {},
   "outputs": [],
   "source": [
    "import pandas as pd\n",
    "import numpy as np\n",
    "import matplotlib.pyplot as plt\n",
    "import seaborn as sns\n",
    "from sklearn.model_selection import train_test_split\n",
    "from scipy import stats\n",
    "from sklearn.neighbors import KNeighborsClassifier\n",
    "from sklearn.linear_model import LogisticRegression\n",
    "from sklearn.preprocessing import normalize\n",
    "from sklearn.preprocessing import PolynomialFeatures\n",
    "from sklearn import linear_model\n",
    "from sklearn.naive_bayes import GaussianNB\n",
    "from sklearn import tree\n",
    "from sklearn.ensemble import RandomForestClassifier"
   ]
  },
  {
   "cell_type": "markdown",
   "id": "bbb4e46d",
   "metadata": {},
   "source": [
    "## Read the data\n",
    "For the project, I will be using the first 5000 entries only."
   ]
  },
  {
   "cell_type": "code",
   "execution_count": 2,
   "id": "12871e01",
   "metadata": {},
   "outputs": [
    {
     "data": {
      "text/html": [
       "<div>\n",
       "<style scoped>\n",
       "    .dataframe tbody tr th:only-of-type {\n",
       "        vertical-align: middle;\n",
       "    }\n",
       "\n",
       "    .dataframe tbody tr th {\n",
       "        vertical-align: top;\n",
       "    }\n",
       "\n",
       "    .dataframe thead th {\n",
       "        text-align: right;\n",
       "    }\n",
       "</style>\n",
       "<table border=\"1\" class=\"dataframe\">\n",
       "  <thead>\n",
       "    <tr style=\"text-align: right;\">\n",
       "      <th></th>\n",
       "      <th>Gender</th>\n",
       "      <th>Customer Type</th>\n",
       "      <th>Age</th>\n",
       "      <th>Type of Travel</th>\n",
       "      <th>Class</th>\n",
       "      <th>Flight Distance</th>\n",
       "      <th>Inflight wifi service</th>\n",
       "      <th>Departure/Arrival time convenient</th>\n",
       "      <th>Ease of Online booking</th>\n",
       "      <th>Gate location</th>\n",
       "      <th>...</th>\n",
       "      <th>Inflight entertainment</th>\n",
       "      <th>On-board service</th>\n",
       "      <th>Leg room service</th>\n",
       "      <th>Baggage handling</th>\n",
       "      <th>Checkin service</th>\n",
       "      <th>Inflight service</th>\n",
       "      <th>Cleanliness</th>\n",
       "      <th>Departure Delay in Minutes</th>\n",
       "      <th>Arrival Delay in Minutes</th>\n",
       "      <th>satisfaction</th>\n",
       "    </tr>\n",
       "  </thead>\n",
       "  <tbody>\n",
       "    <tr>\n",
       "      <th>0</th>\n",
       "      <td>Female</td>\n",
       "      <td>Loyal Customer</td>\n",
       "      <td>52</td>\n",
       "      <td>Business travel</td>\n",
       "      <td>Eco</td>\n",
       "      <td>160</td>\n",
       "      <td>5</td>\n",
       "      <td>4</td>\n",
       "      <td>3</td>\n",
       "      <td>4</td>\n",
       "      <td>...</td>\n",
       "      <td>5</td>\n",
       "      <td>5</td>\n",
       "      <td>5</td>\n",
       "      <td>5</td>\n",
       "      <td>2</td>\n",
       "      <td>5</td>\n",
       "      <td>5</td>\n",
       "      <td>50</td>\n",
       "      <td>44.0</td>\n",
       "      <td>satisfied</td>\n",
       "    </tr>\n",
       "    <tr>\n",
       "      <th>1</th>\n",
       "      <td>Female</td>\n",
       "      <td>Loyal Customer</td>\n",
       "      <td>36</td>\n",
       "      <td>Business travel</td>\n",
       "      <td>Business</td>\n",
       "      <td>2863</td>\n",
       "      <td>1</td>\n",
       "      <td>1</td>\n",
       "      <td>3</td>\n",
       "      <td>1</td>\n",
       "      <td>...</td>\n",
       "      <td>4</td>\n",
       "      <td>4</td>\n",
       "      <td>4</td>\n",
       "      <td>4</td>\n",
       "      <td>3</td>\n",
       "      <td>4</td>\n",
       "      <td>5</td>\n",
       "      <td>0</td>\n",
       "      <td>0.0</td>\n",
       "      <td>satisfied</td>\n",
       "    </tr>\n",
       "    <tr>\n",
       "      <th>2</th>\n",
       "      <td>Male</td>\n",
       "      <td>disloyal Customer</td>\n",
       "      <td>20</td>\n",
       "      <td>Business travel</td>\n",
       "      <td>Eco</td>\n",
       "      <td>192</td>\n",
       "      <td>2</td>\n",
       "      <td>0</td>\n",
       "      <td>2</td>\n",
       "      <td>4</td>\n",
       "      <td>...</td>\n",
       "      <td>2</td>\n",
       "      <td>4</td>\n",
       "      <td>1</td>\n",
       "      <td>3</td>\n",
       "      <td>2</td>\n",
       "      <td>2</td>\n",
       "      <td>2</td>\n",
       "      <td>0</td>\n",
       "      <td>0.0</td>\n",
       "      <td>neutral or dissatisfied</td>\n",
       "    </tr>\n",
       "    <tr>\n",
       "      <th>3</th>\n",
       "      <td>Male</td>\n",
       "      <td>Loyal Customer</td>\n",
       "      <td>44</td>\n",
       "      <td>Business travel</td>\n",
       "      <td>Business</td>\n",
       "      <td>3377</td>\n",
       "      <td>0</td>\n",
       "      <td>0</td>\n",
       "      <td>0</td>\n",
       "      <td>2</td>\n",
       "      <td>...</td>\n",
       "      <td>1</td>\n",
       "      <td>1</td>\n",
       "      <td>1</td>\n",
       "      <td>1</td>\n",
       "      <td>3</td>\n",
       "      <td>1</td>\n",
       "      <td>4</td>\n",
       "      <td>0</td>\n",
       "      <td>6.0</td>\n",
       "      <td>satisfied</td>\n",
       "    </tr>\n",
       "    <tr>\n",
       "      <th>4</th>\n",
       "      <td>Female</td>\n",
       "      <td>Loyal Customer</td>\n",
       "      <td>49</td>\n",
       "      <td>Business travel</td>\n",
       "      <td>Eco</td>\n",
       "      <td>1182</td>\n",
       "      <td>2</td>\n",
       "      <td>3</td>\n",
       "      <td>4</td>\n",
       "      <td>3</td>\n",
       "      <td>...</td>\n",
       "      <td>2</td>\n",
       "      <td>2</td>\n",
       "      <td>2</td>\n",
       "      <td>2</td>\n",
       "      <td>4</td>\n",
       "      <td>2</td>\n",
       "      <td>4</td>\n",
       "      <td>0</td>\n",
       "      <td>20.0</td>\n",
       "      <td>satisfied</td>\n",
       "    </tr>\n",
       "  </tbody>\n",
       "</table>\n",
       "<p>5 rows × 23 columns</p>\n",
       "</div>"
      ],
      "text/plain": [
       "   Gender      Customer Type  Age   Type of Travel     Class  Flight Distance  \\\n",
       "0  Female     Loyal Customer   52  Business travel       Eco              160   \n",
       "1  Female     Loyal Customer   36  Business travel  Business             2863   \n",
       "2    Male  disloyal Customer   20  Business travel       Eco              192   \n",
       "3    Male     Loyal Customer   44  Business travel  Business             3377   \n",
       "4  Female     Loyal Customer   49  Business travel       Eco             1182   \n",
       "\n",
       "   Inflight wifi service  Departure/Arrival time convenient  \\\n",
       "0                      5                                  4   \n",
       "1                      1                                  1   \n",
       "2                      2                                  0   \n",
       "3                      0                                  0   \n",
       "4                      2                                  3   \n",
       "\n",
       "   Ease of Online booking  Gate location  ...  Inflight entertainment  \\\n",
       "0                       3              4  ...                       5   \n",
       "1                       3              1  ...                       4   \n",
       "2                       2              4  ...                       2   \n",
       "3                       0              2  ...                       1   \n",
       "4                       4              3  ...                       2   \n",
       "\n",
       "   On-board service  Leg room service  Baggage handling  Checkin service  \\\n",
       "0                 5                 5                 5                2   \n",
       "1                 4                 4                 4                3   \n",
       "2                 4                 1                 3                2   \n",
       "3                 1                 1                 1                3   \n",
       "4                 2                 2                 2                4   \n",
       "\n",
       "   Inflight service  Cleanliness  Departure Delay in Minutes  \\\n",
       "0                 5            5                          50   \n",
       "1                 4            5                           0   \n",
       "2                 2            2                           0   \n",
       "3                 1            4                           0   \n",
       "4                 2            4                           0   \n",
       "\n",
       "   Arrival Delay in Minutes             satisfaction  \n",
       "0                      44.0                satisfied  \n",
       "1                       0.0                satisfied  \n",
       "2                       0.0  neutral or dissatisfied  \n",
       "3                       6.0                satisfied  \n",
       "4                      20.0                satisfied  \n",
       "\n",
       "[5 rows x 23 columns]"
      ]
     },
     "execution_count": 2,
     "metadata": {},
     "output_type": "execute_result"
    }
   ],
   "source": [
    "df = pd.read_csv('test.csv')[:5000]\n",
    "df = df.dropna()\n",
    "df = df.drop(['Unnamed: 0', 'id'], axis=1)\n",
    "df.head()"
   ]
  },
  {
   "cell_type": "markdown",
   "id": "f450707f",
   "metadata": {},
   "source": [
    "## Overview of the Dataset"
   ]
  },
  {
   "cell_type": "code",
   "execution_count": 3,
   "id": "003bbb00",
   "metadata": {},
   "outputs": [
    {
     "data": {
      "image/png": "[encoded data removed]",
      "text/plain": [
       "<Figure size 432x288 with 1 Axes>"
      ]
     },
     "metadata": {
      "needs_background": "light"
     },
     "output_type": "display_data"
    },
    {
     "data": {
      "image/png": "[encoded data removed]",
      "text/plain": [
       "<Figure size 1296x720 with 4 Axes>"
      ]
     },
     "metadata": {
      "needs_background": "light"
     },
     "output_type": "display_data"
    }
   ],
   "source": [
    "sns.histplot(df['satisfaction'], bins=3).set(ylabel='Number of Passengers')\n",
    "\n",
    "fig, axes = plt.subplots(2, 2, figsize=(18, 10))\n",
    "sns.histplot(ax=axes[0, 0], x=df['satisfaction'], hue=df['Type of Travel'], multiple=\"dodge\").set(ylabel='Number of Passengers')\n",
    "sns.histplot(ax=axes[0, 1], x=df['satisfaction'], hue=df['Gender'], multiple=\"dodge\").set(ylabel='Number of Passengers')\n",
    "sns.histplot(ax=axes[1, 0], x=df['satisfaction'], hue=df['Customer Type'], multiple=\"dodge\").set(ylabel='Number of Passengers')\n",
    "sns.histplot(ax=axes[1, 1], x=df['satisfaction'], hue=df['Class'], multiple=\"dodge\").set(ylabel='Number of Passengers');\n",
    "plt.show()"
   ]
  },
  {
   "cell_type": "markdown",
   "id": "28ea1ee4",
   "metadata": {},
   "source": [
    "## Train-test Split"
   ]
  },
  {
   "cell_type": "code",
   "execution_count": 4,
   "id": "b7e9c798",
   "metadata": {},
   "outputs": [],
   "source": [
    "df_train, df_test = train_test_split(df, test_size=.2, random_state=2)\n",
    "x_train = df_train.drop(labels='satisfaction',axis=1, inplace=False)\n",
    "x_test = df_test.drop(labels='satisfaction',axis=1, inplace=False)\n",
    "y_train = df_train['satisfaction'].to_frame()\n",
    "y_test = df_test['satisfaction'].to_frame()"
   ]
  },
  {
   "cell_type": "markdown",
   "id": "21167089",
   "metadata": {},
   "source": [
    "## 1. Training using KNN-Classifier\n",
    "### Categorical Variables to Numerical Vectors"
   ]
  },
  {
   "cell_type": "code",
   "execution_count": 5,
   "id": "434d8ac0",
   "metadata": {},
   "outputs": [
    {
     "data": {
      "text/html": [
       "<div>\n",
       "<style scoped>\n",
       "    .dataframe tbody tr th:only-of-type {\n",
       "        vertical-align: middle;\n",
       "    }\n",
       "\n",
       "    .dataframe tbody tr th {\n",
       "        vertical-align: top;\n",
       "    }\n",
       "\n",
       "    .dataframe thead th {\n",
       "        text-align: right;\n",
       "    }\n",
       "</style>\n",
       "<table border=\"1\" class=\"dataframe\">\n",
       "  <thead>\n",
       "    <tr style=\"text-align: right;\">\n",
       "      <th></th>\n",
       "      <th>Gender</th>\n",
       "      <th>Customer Type</th>\n",
       "      <th>Type of Travel</th>\n",
       "      <th>Class</th>\n",
       "    </tr>\n",
       "  </thead>\n",
       "  <tbody>\n",
       "    <tr>\n",
       "      <th>4462</th>\n",
       "      <td>1</td>\n",
       "      <td>0</td>\n",
       "      <td>0</td>\n",
       "      <td>2</td>\n",
       "    </tr>\n",
       "    <tr>\n",
       "      <th>2319</th>\n",
       "      <td>1</td>\n",
       "      <td>0</td>\n",
       "      <td>1</td>\n",
       "      <td>1</td>\n",
       "    </tr>\n",
       "    <tr>\n",
       "      <th>3800</th>\n",
       "      <td>1</td>\n",
       "      <td>1</td>\n",
       "      <td>0</td>\n",
       "      <td>0</td>\n",
       "    </tr>\n",
       "    <tr>\n",
       "      <th>2473</th>\n",
       "      <td>0</td>\n",
       "      <td>0</td>\n",
       "      <td>0</td>\n",
       "      <td>1</td>\n",
       "    </tr>\n",
       "    <tr>\n",
       "      <th>2005</th>\n",
       "      <td>0</td>\n",
       "      <td>1</td>\n",
       "      <td>0</td>\n",
       "      <td>0</td>\n",
       "    </tr>\n",
       "  </tbody>\n",
       "</table>\n",
       "</div>"
      ],
      "text/plain": [
       "      Gender  Customer Type  Type of Travel  Class\n",
       "4462       1              0               0      2\n",
       "2319       1              0               1      1\n",
       "3800       1              1               0      0\n",
       "2473       0              0               0      1\n",
       "2005       0              1               0      0"
      ]
     },
     "execution_count": 5,
     "metadata": {},
     "output_type": "execute_result"
    }
   ],
   "source": [
    "cleanup_nums = {'Gender': {'Female': 0, \"Male\": 1},\n",
    "                'Customer Type': {'Loyal Customer': 0, 'disloyal Customer': 1},\n",
    "                'Type of Travel': {'Business travel': 0, 'Personal Travel': 1},\n",
    "                'Class': {'Eco': 0, 'Eco Plus': 1, 'Business': 2}, \n",
    "                'satisfaction': {'neutral or dissatisfied': 0, 'satisfied': 1}}\n",
    "                \n",
    "# To convert the columns to numbers using replace :\n",
    "x_train_num = x_train.replace(cleanup_nums)\n",
    "x_test_num = x_test.replace(cleanup_nums)\n",
    "y_train_num = list(y_train.replace(cleanup_nums)['satisfaction'])\n",
    "y_test_num = list(y_test.replace(cleanup_nums)['satisfaction'])\n",
    "\n",
    "x_train_num[['Gender', 'Customer Type', 'Type of Travel', 'Class']].head()"
   ]
  },
  {
   "cell_type": "code",
   "execution_count": 6,
   "id": "b7c84c7a",
   "metadata": {},
   "outputs": [
    {
     "name": "stdout",
     "output_type": "stream",
     "text": [
      "60.68% when k = 1\t62.29% when k = 2\t61.48% when k = 3\t\n",
      "61.99% when k = 4\t62.69% when k = 5\t64.29% when k = 6\t\n",
      "64.89% when k = 7\t63.89% when k = 8\t64.39% when k = 9\t\n",
      "65.6% when k = 10\t64.49% when k = 11\t65.7% when k = 12\t\n",
      "64.99% when k = 13\t64.79% when k = 14\t63.99% when k = 15\t\n",
      "64.29% when k = 16\t63.29% when k = 17\t64.09% when k = 18\t\n",
      "63.39% when k = 19\t63.89% when k = 20\t63.79% when k = 21\t\n",
      "63.69% when k = 22\t62.99% when k = 23\t63.29% when k = 24\t\n",
      "62.59% when k = 25\t63.69% when k = 26\t62.79% when k = 27\t\n",
      "63.09% when k = 28\t62.29% when k = 29\t63.19% when k = 30\t\n",
      "62.79% when k = 31\t63.89% when k = 32\t63.49% when k = 33\t\n",
      "63.19% when k = 34\t63.19% when k = 35\t63.19% when k = 36\t\n",
      "63.19% when k = 37\t63.49% when k = 38\t63.09% when k = 39\t\n",
      "62.99% when k = 40\t\n",
      "Best accuracy 65.7% accuracy when k = 12\n"
     ]
    },
    {
     "data": {
      "image/png": "[encoded data removed]",
      "text/plain": [
       "<Figure size 432x288 with 1 Axes>"
      ]
     },
     "metadata": {},
     "output_type": "display_data"
    }
   ],
   "source": [
    "accuracies = []\n",
    "output = ''\n",
    "k_range = list(range(1, 41))\n",
    "for k in k_range:\n",
    "    clf = KNeighborsClassifier(k).fit(x_train_num, y_train_num)\n",
    "    prediction = clf.predict(x_test_num)\n",
    "    accuracy = np.sum(prediction == y_test_num) / len(y_test_num)\n",
    "    accuracies.append(accuracy)\n",
    "    output += str(round(accuracy*100, 2)) + '% when k = ' + str(k) + '\\t'\n",
    "    output += '\\n'if k%3 == False else ''\n",
    "print(output)\n",
    "print('Best accuracy '+ str(round(np.max(accuracies)*100, 2))\n",
    "      + '% accuracy when k = ' + str(np.argmax(accuracies) + 1))\n",
    "sns.set_style(\"darkgrid\")\n",
    "plt.plot(k_range, accuracies)\n",
    "plt.xlabel('k-value')\n",
    "plt.ylabel('Accuracy')\n",
    "plt.show()"
   ]
  },
  {
   "cell_type": "markdown",
   "id": "42adb39d",
   "metadata": {},
   "source": [
    "### <font color='red'>Best accuracy 65.7% accuracy when k = 12</font> \n",
    "--- "
   ]
  },
  {
   "cell_type": "markdown",
   "id": "d0e1ab7b",
   "metadata": {},
   "source": [
    "## 2. Training using Logistical Regression Classifier"
   ]
  },
  {
   "cell_type": "markdown",
   "id": "ae22d802",
   "metadata": {},
   "source": [
    "### Normalization of Data\n"
   ]
  },
  {
   "cell_type": "code",
   "execution_count": 7,
   "id": "7137e84f",
   "metadata": {},
   "outputs": [],
   "source": [
    "x_train_num_norm = normalize(x_train_num, norm='l1')\n",
    "x_test_num_norm = normalize(x_test_num)"
   ]
  },
  {
   "cell_type": "markdown",
   "id": "53d54063",
   "metadata": {},
   "source": [
    "### Training the Model"
   ]
  },
  {
   "cell_type": "code",
   "execution_count": 8,
   "id": "9d89387a",
   "metadata": {
    "scrolled": false
   },
   "outputs": [
    {
     "name": "stdout",
     "output_type": "stream",
     "text": [
      "57.67% when C = 1\t65.7% when C = 51\t\n",
      "71.11% when C = 101\t74.52% when C = 151\t75.23% when C = 201\t\n",
      "75.93% when C = 251\t76.13% when C = 301\t74.62% when C = 351\t\n",
      "72.22% when C = 401\t70.21% when C = 451\t68.91% when C = 501\t\n",
      "65.9% when C = 551\t63.89% when C = 601\t60.98% when C = 651\t\n",
      "59.68% when C = 701\t57.47% when C = 751\t56.17% when C = 801\t\n",
      "54.76% when C = 851\t53.96% when C = 901\t54.36% when C = 951\t\n",
      "\n",
      "Best accuracy 76.13% accuracy when C = 301\n"
     ]
    },
    {
     "data": {
      "image/png": "[encoded data removed]",
      "text/plain": [
       "<Figure size 432x288 with 1 Axes>"
      ]
     },
     "metadata": {},
     "output_type": "display_data"
    }
   ],
   "source": [
    "accuracies = []\n",
    "output = ''\n",
    "step = 50\n",
    "C_range = list(range(1,1000, step))\n",
    "x_train_num_norm = normalize(x_train_num, norm='l1')\n",
    "x_test_num_norm = normalize(x_test_num)\n",
    "for c in C_range:\n",
    "    clf = LogisticRegression(random_state=2, C=c, max_iter=3000).fit(x_train_num_norm, y_train_num)\n",
    "    prediction = clf.predict(x_test_num_norm)\n",
    "    accuracy = np.sum(prediction == y_test_num) / len(y_test_num)\n",
    "    accuracies.append(accuracy)\n",
    "    output += str(round(accuracy*100, 2)) + '% when C = ' + str(c) + '\\t'\n",
    "    output += '\\n'if c%3 == False else ''\n",
    "print(output)\n",
    "print('Best accuracy '+ str(round(np.max(accuracies)*100, 2))\n",
    "      + '% accuracy when C = ' + str(np.argmax(accuracies)*step + 1))\n",
    "sns.set_style(\"darkgrid\")\n",
    "plt.plot(C_range, accuracies)\n",
    "plt.xlabel('C-value')\n",
    "plt.ylabel('Accuracy')\n",
    "plt.show()"
   ]
  },
  {
   "cell_type": "markdown",
   "id": "1006fa80",
   "metadata": {},
   "source": [
    "### <font color='red'>Best accuracy 76.13% accuracy when C = 301</font> \n",
    "--- "
   ]
  },
  {
   "cell_type": "markdown",
   "id": "6fd7bf22",
   "metadata": {},
   "source": [
    "## 3. Polynomial Regression Fitting"
   ]
  },
  {
   "cell_type": "code",
   "execution_count": 9,
   "id": "f03d770b",
   "metadata": {},
   "outputs": [
    {
     "name": "stdout",
     "output_type": "stream",
     "text": [
      "Accuracy: 92.58% when degree = 2\n",
      "Accuracy: 85.26% when degree = 3\n",
      "Accuracy: 66.5% when degree = 4\n"
     ]
    }
   ],
   "source": [
    "for d in range(2, 5):\n",
    "    model = PolynomialFeatures(degree=d)\n",
    "    x_train_kernel = model.fit_transform(x_train_num)\n",
    "    x_test_kernel = model.fit_transform(x_test_num)\n",
    "\n",
    "    clf = linear_model.LinearRegression()\n",
    "    clf.fit(x_train_kernel, y_train_num)\n",
    "    prediction = clf.predict(x_test_kernel)\n",
    "    for i in range(len(prediction)):\n",
    "        \n",
    "        # This is a regression model. To change this to classification, we\n",
    "        # need to classify each node to its closest class. In this case, the distance\n",
    "        # is smaller to 1 than to 0 when the prediction is greater than 0.5\n",
    "        prediction[i] = 1 if (prediction[i] >= 0.5) else 0\n",
    "    accuracy = np.sum(prediction == y_test_num) / len(y_test_num)\n",
    "    print('Accuracy: ' + str(round(accuracy * 100, 2)) +  '% when degree = ' + str(d))"
   ]
  },
  {
   "cell_type": "markdown",
   "id": "3bbaa1e3",
   "metadata": {},
   "source": [
    "### As the degree increases, the accuracy of prediction is decreasing after degree = 2. We can tell from this result that the model is overfitting the training set, which leads to a decrease on predicting test set. "
   ]
  },
  {
   "cell_type": "markdown",
   "id": "8bbf8a04",
   "metadata": {},
   "source": [
    "### <font color='red'>Best accuracy 92.58% accuracy when degree = 2</font> \n",
    "--- "
   ]
  },
  {
   "cell_type": "markdown",
   "id": "6f2d58f7",
   "metadata": {},
   "source": [
    "## 4. Naive Bayes Classifier"
   ]
  },
  {
   "cell_type": "code",
   "execution_count": 10,
   "id": "729774e1",
   "metadata": {},
   "outputs": [
    {
     "name": "stdout",
     "output_type": "stream",
     "text": [
      "Accuracy: 85.0%.\n"
     ]
    }
   ],
   "source": [
    "clf = GaussianNB().fit(x_train_num, y_train_num)\n",
    "prediction = clf.predict(x_test_num)\n",
    "accuracy = np.sum(prediction == y_test_num) / len(y_test_num)\n",
    "print('Accuracy: ' + str(round(accuracy, 2)*100) + '%.')"
   ]
  },
  {
   "cell_type": "markdown",
   "id": "ae0afaf8",
   "metadata": {},
   "source": [
    "### <font color='red'>Accuracy is 85.0% for Naive Bayes Model.</font> \n",
    "--- "
   ]
  },
  {
   "cell_type": "markdown",
   "id": "e7813e3f",
   "metadata": {},
   "source": [
    "## 5. Decision Tree Classifier"
   ]
  },
  {
   "cell_type": "code",
   "execution_count": 11,
   "id": "683e7a61",
   "metadata": {},
   "outputs": [
    {
     "name": "stdout",
     "output_type": "stream",
     "text": [
      "Accuracy: 90.0%. \n",
      "\tSplit: best\tCriterion: entropy\n",
      "Accuracy: 90.0%. \n",
      "\tSplit: random\tCriterion: entropy\n",
      "Accuracy: 91.0%. \n",
      "\tSplit: best\tCriterion: gini\n",
      "Accuracy: 91.0%. \n",
      "\tSplit: random\tCriterion: gini\n"
     ]
    }
   ],
   "source": [
    "crits = ['entropy', 'gini']\n",
    "splts = ['best', 'random']\n",
    "for crit in crits:\n",
    "    for splt in splts:\n",
    "        clf = tree.DecisionTreeClassifier(criterion=crit, splitter=splt).fit(x_train_num, y_train_num)\n",
    "        prediction = clf.predict(x_test_num)\n",
    "        accuracy = np.sum(prediction == y_test_num) / len(y_test_num)\n",
    "        print('Accuracy: ' + str(round(accuracy, 2)*100) + '%.' + \n",
    "              ' \\n\\tSplit: ' + splt + '\\tCriterion: '+ crit)"
   ]
  },
  {
   "cell_type": "markdown",
   "id": "feb0087d",
   "metadata": {},
   "source": [
    "### After multiple times of testing, the decision tree classifier gives results from 89% to 94%. The model always gives a better result when using 'best' as the splitter, while the best result could appear for both 'entropy' and 'gini'. Considering the overall results of the model, the best combination should be 'random' and 'entropy' for the dataset. "
   ]
  },
  {
   "cell_type": "markdown",
   "id": "2e2444de",
   "metadata": {},
   "source": [
    "### <font color='red'>Accuracy is 89% - 94% for Decision Tree Model.</font> \n",
    "--- "
   ]
  },
  {
   "cell_type": "markdown",
   "id": "5ba2c95c",
   "metadata": {},
   "source": [
    "## 6. Random Forest Classifier"
   ]
  },
  {
   "cell_type": "code",
   "execution_count": 12,
   "id": "0b4c3b32",
   "metadata": {},
   "outputs": [
    {
     "name": "stdout",
     "output_type": "stream",
     "text": [
      "        d=1    d=2    d=3    d=4    d=5    d=6    d=7    d=8    d=9   d=10\n",
      "N=1  62.29% 77.03% 77.73% 74.22% 86.86% 85.56% 88.37% 87.56% 87.36% 85.66%\n",
      "N=2  75.83% 83.75% 79.44% 87.66% 87.36% 88.06% 87.76% 88.16% 89.97% 88.57%\n",
      "N=3  75.83% 80.24% 83.05% 87.36% 87.46% 90.47% 90.77% 90.77% 89.57% 91.27%\n",
      "N=4  81.24% 81.24% 83.85% 86.66% 90.57% 90.77% 89.87% 89.57% 90.57% 92.68%\n",
      "N=5  79.54% 82.65% 86.86% 88.47% 91.68% 90.17% 90.57% 90.67% 92.28% 91.68%\n",
      "N=6  81.85% 83.45% 86.06% 87.46% 90.67% 91.37% 91.37% 91.78% 92.18% 91.47%\n",
      "N=7  79.44% 82.25% 85.86% 88.16% 90.77% 91.68% 90.87% 91.17% 92.78% 91.47%\n",
      "N=8  74.42% 85.66% 86.76% 89.97% 89.57% 90.67% 92.58% 92.58% 92.48% 90.07%\n",
      "N=9  84.65% 86.56% 86.76% 89.97% 90.37% 90.97% 92.08% 91.37% 92.88% 92.58%\n",
      "N=10 84.25% 86.36% 89.47% 89.87% 91.37% 91.37% 92.58% 92.18% 92.88% 93.08%\n",
      "\n",
      "The best combination of N and d is: N = 10, d = 10\n",
      "Accuracy for the best N-d: 0.9307923771313942\n"
     ]
    },
    {
     "data": {
      "image/png": "[encoded data removed]",
      "text/plain": [
       "<Figure size 432x288 with 2 Axes>"
      ]
     },
     "metadata": {},
     "output_type": "display_data"
    }
   ],
   "source": [
    "best_N = 0\n",
    "best_d = 0\n",
    "best_Acc = 0\n",
    "max_N = 10\n",
    "max_d = 10\n",
    "info = np.zeros(shape=(max_N, max_d))\n",
    "for N in range(1, max_N + 1):\n",
    "    for d in range(1, max_d + 1):\n",
    "        clf = RandomForestClassifier(n_estimators=N, max_depth=d, criterion='entropy').fit(x_train_num, y_train_num)\n",
    "        prediction = clf.predict(x_test_num)\n",
    "        accuracy = np.sum(prediction == y_test_num) / len(y_test_num)\n",
    "        if accuracy > best_Acc:\n",
    "            best_Acc = accuracy\n",
    "            best_N = N\n",
    "            best_d = d\n",
    "            best_predict = prediction\n",
    "        # store all error rates to the ndarray\n",
    "        info[N - 1, d - 1] = accuracy\n",
    "info = pd.DataFrame(info)\n",
    "\n",
    "# display as percentage\n",
    "pd.options.display.float_format = '{:.2%}'.format\n",
    "\n",
    "# assign corresponding col names and row names\n",
    "info.columns = list('d=' + str(i) for i in range(1, max_d + 1))\n",
    "info.index = list('N=' + str(i) for i in range(1, max_N + 1))\n",
    "\n",
    "# export a heatmap of error rates\n",
    "sns.heatmap(info, annot=False,\n",
    "           cmap=sns.diverging_palette(240, 20, n=100), fmt='.4g')\n",
    "plt.yticks(rotation=0);\n",
    "print(info)\n",
    "print('\\nThe best combination of N and d is: N = ' + str(best_N) + ', d = ' + str(best_d))\n",
    "print('Accuracy for the best N-d: ' + str(best_Acc))"
   ]
  },
  {
   "cell_type": "markdown",
   "id": "eb988f10",
   "metadata": {},
   "source": [
    "### Due to the use of random in this algorithm, the accuracy will fluctuate each time. The best accuracy within N*d trains is around 93.5% after multiple testing. "
   ]
  },
  {
   "cell_type": "markdown",
   "id": "dcdb1210",
   "metadata": {},
   "source": [
    "### <font color='red'>Accuracy is 93.5% for Random Forest Model.</font> \n",
    "--- "
   ]
  },
  {
   "cell_type": "markdown",
   "id": "d15c990f",
   "metadata": {},
   "source": [
    "# Conclusion\n",
    "\n",
    "### After training various models, there are three of them performing extraordinarily well. Multivariate Polynomial Regression, Decision Tree, and Random Forest all have possibility to reach 93% of accuracy. By using these models, we are 93% sure that we could predict his/her satisfaction level based on the data he/she gives. "
   ]
  }
 ],
 "metadata": {
  "kernelspec": {
   "display_name": "Python 3 (ipykernel)",
   "language": "python",
   "name": "python3"
  },
  "language_info": {
   "codemirror_mode": {
    "name": "ipython",
    "version": 3
   },
   "file_extension": ".py",
   "mimetype": "text/x-python",
   "name": "python",
   "nbconvert_exporter": "python",
   "pygments_lexer": "ipython3",
   "version": "3.9.7"
  }
 },
 "nbformat": 4,
 "nbformat_minor": 5
}
